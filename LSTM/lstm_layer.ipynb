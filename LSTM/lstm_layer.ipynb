{
 "cells": [
  {
   "cell_type": "markdown",
   "metadata": {},
   "source": [
    "**LSTM Implementation**"
   ]
  },
  {
   "cell_type": "markdown",
   "metadata": {},
   "source": [
    "**Prepare Dataset**"
   ]
  },
  {
   "cell_type": "code",
   "execution_count": 1,
   "metadata": {},
   "outputs": [
    {
     "ename": "ModuleNotFoundError",
     "evalue": "No module named 'cv2'",
     "output_type": "error",
     "traceback": [
      "\u001b[0;31m---------------------------------------------------------------------------\u001b[0m",
      "\u001b[0;31mModuleNotFoundError\u001b[0m                       Traceback (most recent call last)",
      "Cell \u001b[0;32mIn[1], line 1\u001b[0m\n\u001b[0;32m----> 1\u001b[0m \u001b[38;5;28;01mimport\u001b[39;00m\u001b[38;5;250m \u001b[39m\u001b[38;5;21;01mcv2\u001b[39;00m\n\u001b[1;32m      2\u001b[0m \u001b[38;5;28;01mimport\u001b[39;00m\u001b[38;5;250m \u001b[39m\u001b[38;5;21;01mtorch\u001b[39;00m\n\u001b[1;32m      3\u001b[0m \u001b[38;5;28;01mimport\u001b[39;00m\u001b[38;5;250m \u001b[39m\u001b[38;5;21;01mnumpy\u001b[39;00m\u001b[38;5;250m \u001b[39m\u001b[38;5;28;01mas\u001b[39;00m\u001b[38;5;250m \u001b[39m\u001b[38;5;21;01mnp\u001b[39;00m\n",
      "\u001b[0;31mModuleNotFoundError\u001b[0m: No module named 'cv2'"
     ]
    }
   ],
   "source": [
    "import cv2\n",
    "import torch\n",
    "import numpy as np\n",
    "from torch.utils.data import TensorDataset, DataLoader\n",
    "import torch.utils.data as data_utils\n",
    "import torch.nn as nn\n",
    "from torchvision import models\n",
    "import os\n",
    "import system"
   ]
  },
  {
   "cell_type": "code",
   "execution_count": 2,
   "metadata": {},
   "outputs": [
    {
     "name": "stdout",
     "output_type": "stream",
     "text": [
      "2\n"
     ]
    }
   ],
   "source": [
    "folder_path = \"C:/Users/juhye/Desktop/Current Files/플젝/SlurryViscNet/data_repository/segmented_video\"\n",
    "video_files = [f for f in os.listdir(folder_path) if f.endswith('.mp4')]\n",
    "\n",
    "print(len(video_files))\n",
    "\n",
    "video_paths = [os.path.join(folder_path, f) for f in video_files]"
   ]
  },
  {
   "cell_type": "code",
   "execution_count": null,
   "metadata": {},
   "outputs": [],
   "source": [
    "input_video_path = \"C:/Users/juhye/Desktop/Current Files/플젝/SlurryViscNet/data_repository/segmented_video/output_flag_input2.mp4\"\n",
    "\n",
    "videos = []\n",
    "\n",
    "for path in video_paths:\n",
    "    cap = cv2.VideoCapture(input_video_path)\n",
    "    fps = int(cap.get(cv2.CAP_PROP_FPS))\n",
    "    frame_width = int(cap.get(cv2.CAP_PROP_FRAME_WIDTH))\n",
    "    frame_height = int(cap.get(cv2.CAP_PROP_FRAME_HEIGHT))\n",
    "\n",
    "    frames = []\n",
    "    i = 0\n",
    "\n",
    "    while True:\n",
    "        ret, frame = cap.read()\n",
    "        if not ret:\n",
    "            break\n",
    "\n",
    "        frame = cv2.cvtColor(frame, cv2.COLOR_BGR2RGB)\n",
    "        frame = frame / 255.0\n",
    "        frames.append(frame)\n",
    "    cap.release()\n",
    "    video_np = np.array(frames, dtype=np.float32)  # Shape: [T, H, W, C]\n",
    "\n",
    "    videos.append(video_np) \n",
    "\n",
    "video_datas_np = np.array(videos, dtype=np.float32) # Shape: [N, T, H, W, C]\n",
    "\n",
    "video_tensor = torch.tensor(video_np).permute(0, 1, 4, 2, 3) # Shape: [N, T, C, H, W]\n",
    "labels_tensor = torch.rand(video_tensor.shape[0], video_tensor.shape[1])\n",
    "\n",
    "print(\"Video tensor shape:\", video_tensor.shape)"
   ]
  },
  {
   "cell_type": "code",
   "execution_count": 18,
   "metadata": {},
   "outputs": [],
   "source": [
    "train_dataset = TensorDataset(video_tensor, labels_tensor)\n",
    "train_loader = DataLoader(dataset = train_dataset, batch_size= 4, shuffle= True)"
   ]
  },
  {
   "cell_type": "markdown",
   "metadata": {},
   "source": [
    "**Resnet-LSTM Architecture**"
   ]
  },
  {
   "cell_type": "code",
   "execution_count": 19,
   "metadata": {},
   "outputs": [],
   "source": [
    "\n",
    "class ViscosityEstimator(nn.Module):\n",
    "    def __init__(self, cnn_model='resnet18', lstm_hidden_size=128, lstm_layers=2):\n",
    "        super(ViscosityEstimator, self).__init__()\n",
    "        \n",
    "        # Pre-trained CNN\n",
    "        self.cnn = getattr(models, cnn_model)(pretrained=True)\n",
    "        self.cnn = nn.Sequential(*list(self.cnn.children())[:-1])  # 1st component is for classification > remove\n",
    "        self.cnn_out_features = 512\n",
    "        \n",
    "        # LSTM\n",
    "        self.lstm = nn.LSTM(input_size=self.cnn_out_features, \n",
    "                            hidden_size=lstm_hidden_size, \n",
    "                            num_layers=lstm_layers, \n",
    "                            batch_first=True)\n",
    "        \n",
    "        # Fully connected\n",
    "        self.fc = nn.Linear(lstm_hidden_size, 1)\n",
    "    \n",
    "    def forward(self, x):\n",
    "        \"\"\" x: (batch_size, sequence_length, channels, height, width)\"\"\"\n",
    "        batch_size, seq_len, channels, height, width = x.size()\n",
    "\n",
    "        cnn_features = []\n",
    "\n",
    "        for t in range(seq_len):\n",
    "            frame = x[:, t, :, :, :] \n",
    "            frame_features = self.cnn(frame)\n",
    "            frame_features = frame_features.view(batch_size, -1) \n",
    "            cnn_features.append(frame_features)\n",
    "        \n",
    "        cnn_features = torch.stack(cnn_features, dim=1)\n",
    "        lstm_out, _ = self.lstm(cnn_features)\n",
    "        lstm_last_out = lstm_out[:, -1, :]\n",
    "        \n",
    "        viscosity = self.fc(lstm_last_out)  # (batch_size, 1)\n",
    "        \n",
    "        return viscosity\n"
   ]
  },
  {
   "cell_type": "markdown",
   "metadata": {},
   "source": [
    "**Training Code**"
   ]
  },
  {
   "cell_type": "code",
   "execution_count": null,
   "metadata": {},
   "outputs": [],
   "source": [
    "import torch.optim as optim\n",
    "\n",
    "model = ViscosityEstimator(cnn_model='resnet18', lstm_hidden_size=128, lstm_layers=2)\n",
    "criterion = nn.MSELoss()\n",
    "optimizer = optim.Adam(model.parameters(), lr=1e-4)"
   ]
  },
  {
   "cell_type": "code",
   "execution_count": null,
   "metadata": {},
   "outputs": [],
   "source": [
    "num_epochs = 1\n",
    "device = 'cuda' if torch.cuda.is_available() else 'cpu'\n",
    "\n",
    "for epoch in range(num_epochs):\n",
    "    model.train()\n",
    "    for inputs, targets in train_loader:\n",
    "        inputs, targets = inputs.to(device), targets.to(device)\n",
    "        \n",
    "        optimizer.zero_grad()\n",
    "        outputs = model(inputs)\n",
    "        loss = criterion(outputs, targets)\n",
    "        loss.backward()\n",
    "        optimizer.step()\n",
    "    \n",
    "    print(f\"Epoch {epoch + 1}, Loss: {loss.item()}\")"
   ]
  },
  {
   "cell_type": "markdown",
   "metadata": {},
   "source": []
  }
 ],
 "metadata": {
  "kernelspec": {
   "display_name": "viscosity",
   "language": "python",
   "name": "python3"
  },
  "language_info": {
   "codemirror_mode": {
    "name": "ipython",
    "version": 3
   },
   "file_extension": ".py",
   "mimetype": "text/x-python",
   "name": "python",
   "nbconvert_exporter": "python",
   "pygments_lexer": "ipython3",
   "version": "3.11.6"
  }
 },
 "nbformat": 4,
 "nbformat_minor": 2
}
