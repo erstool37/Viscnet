{
 "cells": [
  {
   "cell_type": "markdown",
   "metadata": {},
   "source": [
    "**LSTM Implementation**"
   ]
  },
  {
   "cell_type": "markdown",
   "metadata": {},
   "source": [
    "**Prepare Dataset**"
   ]
  },
  {
   "cell_type": "code",
   "execution_count": 2,
   "metadata": {},
   "outputs": [],
   "source": [
    "import cv2\n",
    "import torch\n",
    "import numpy as np\n",
    "\n",
    "input_video_path = \"./data_repository/segmented_video\"\n",
    "\n",
    "cap = cv2.VideoCapture(input_video_path)\n",
    "fps = int(cap.get(cv2.CAP_PROP_FPS))\n",
    "frame_width = int(cap.get(cv2.CAP_PROP_FRAME_WIDTH))\n",
    "frame_height = int(cap.get(cv2.CAP_PROP_FRAME_HEIGHT))\n",
    "\n",
    "frames = []\n",
    "labels = []\n",
    "\n",
    "while True:\n",
    "    ret, frame = cap.read()\n",
    "    if not ret:\n",
    "        break\n",
    " \n",
    "    frame = cv2.cvtColor(frame, cv2.COLOR_BGR2RGB)\n",
    "    frame = frame / 255.0\n",
    "    frames.append(frame)\n",
    "\n",
    "    # labels = 0\n",
    "    # should update the labes code according to GT data format\n",
    "    ##\n",
    "\n",
    "cap.release()\n",
    "\n",
    "video_np = np.array(frames, dtype=np.float32)  # Shape: [T, H, W, C]\n",
    "video_tensor = torch.from_numpy(video_np).permute(3, 0, 1, 2)  # Shape: [C, T, H, W]\n",
    "\n",
    "print(\"Video tensor shape:\", video_tensor.shape)"
   ]
  },
  {
   "cell_type": "code",
   "execution_count": null,
   "metadata": {},
   "outputs": [],
   "source": []
  },
  {
   "cell_type": "markdown",
   "metadata": {},
   "source": [
    "**Resnet-LSTM Architecture**"
   ]
  },
  {
   "cell_type": "code",
   "execution_count": null,
   "metadata": {},
   "outputs": [],
   "source": [
    "import torch\n",
    "import torch.nn as nn\n",
    "from torchvision import models\n",
    "\n",
    "class ViscosityEstimator(nn.Module):\n",
    "    def __init__(self, cnn_model='resnet18', lstm_hidden_size=128, lstm_layers=2):\n",
    "        super(ViscosityEstimator, self).__init__()\n",
    "        \n",
    "        # Pre-trained CNN\n",
    "        self.cnn = getattr(models, cnn_model)(pretrained=True)\n",
    "        self.cnn = nn.Sequential(*list(self.cnn.children())[:-1])  # 1st component is for classification > remove\n",
    "        self.cnn_out_features = 512\n",
    "        \n",
    "        # LSTM\n",
    "        self.lstm = nn.LSTM(input_size=self.cnn_out_features, \n",
    "                            hidden_size=lstm_hidden_size, \n",
    "                            num_layers=lstm_layers, \n",
    "                            batch_first=True)\n",
    "        \n",
    "        # Fully connected\n",
    "        self.fc = nn.Linear(lstm_hidden_size, 1)\n",
    "    \n",
    "    def forward(self, x):\n",
    "        \"\"\" x: (batch_size, sequence_length, channels, height, width)\"\"\"\n",
    "        batch_size, seq_len, channels, height, width = x.size()\n",
    "\n",
    "        cnn_features = []\n",
    "\n",
    "        for t in range(seq_len):\n",
    "            frame = x[:, t, :, :, :] \n",
    "            frame_features = self.cnn(frame)\n",
    "            frame_features = frame_features.view(batch_size, -1) \n",
    "            cnn_features.append(frame_features)\n",
    "        \n",
    "        cnn_features = torch.stack(cnn_features, dim=1)\n",
    "        lstm_out, _ = self.lstm(cnn_features)\n",
    "        lstm_last_out = lstm_out[:, -1, :]\n",
    "        \n",
    "        viscosity = self.fc(lstm_last_out)  # (batch_size, 1)\n",
    "        \n",
    "        return viscosity\n"
   ]
  },
  {
   "cell_type": "markdown",
   "metadata": {},
   "source": [
    "**Training Code**"
   ]
  },
  {
   "cell_type": "code",
   "execution_count": null,
   "metadata": {},
   "outputs": [],
   "source": [
    "import torch.optim as optim\n",
    "\n",
    "model = ViscosityEstimator(cnn_model='resnet18', lstm_hidden_size=128, lstm_layers=2)\n",
    "criterion = nn.MSELoss()\n",
    "optimizer = optim.Adam(model.parameters(), lr=1e-4)"
   ]
  },
  {
   "cell_type": "code",
   "execution_count": null,
   "metadata": {},
   "outputs": [],
   "source": [
    "num_epochs = 1\n",
    "device = 'cuda' if torch.cuda.is_available() else 'cpu'\n",
    "\n",
    "for epoch in range(num_epochs):\n",
    "    model.train()\n",
    "    for inputs, targets in train_loader:\n",
    "        inputs, targets = inputs.to(device), targets.to(device)\n",
    "        \n",
    "        optimizer.zero_grad()\n",
    "        outputs = model(inputs)\n",
    "        loss = criterion(outputs, targets)\n",
    "        loss.backward()\n",
    "        optimizer.step()\n",
    "    \n",
    "    print(f\"Epoch {epoch + 1}, Loss: {loss.item()}\")"
   ]
  },
  {
   "cell_type": "markdown",
   "metadata": {},
   "source": []
  }
 ],
 "metadata": {
  "kernelspec": {
   "display_name": "Python 3",
   "language": "python",
   "name": "python3"
  },
  "language_info": {
   "codemirror_mode": {
    "name": "ipython",
    "version": 3
   },
   "file_extension": ".py",
   "mimetype": "text/x-python",
   "name": "python",
   "nbconvert_exporter": "python",
   "pygments_lexer": "ipython3",
   "version": "3.12.7"
  }
 },
 "nbformat": 4,
 "nbformat_minor": 2
}
