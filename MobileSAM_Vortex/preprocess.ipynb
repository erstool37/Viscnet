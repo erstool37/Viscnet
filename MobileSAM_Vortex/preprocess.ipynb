{
 "cells": [
  {
   "cell_type": "code",
   "execution_count": 20,
   "metadata": {},
   "outputs": [],
   "source": [
    "import os\n",
    "import os.path as osp\n",
    "import glob\n",
    "\n",
    "import torch\n",
    "import numpy as np\n",
    "import cv2\n",
    "from patchify import patchify\n",
    "from sklearn.model_selection import train_test_split"
   ]
  },
  {
   "cell_type": "markdown",
   "metadata": {},
   "source": [
    "## Define Preprocessing Functions"
   ]
  },
  {
   "cell_type": "code",
   "execution_count": 21,
   "metadata": {},
   "outputs": [],
   "source": [
    "def apply_morphology(mask, radius_erosion=1, iter_erosion=1, radius_dilation=3, iter_dilation=2, morph_op=\"opening\"):\n",
    "    \"\"\"Applies erosion and dilation to the mask.\"\"\"\n",
    "    kernel_erosion = cv2.getStructuringElement(cv2.MORPH_ELLIPSE, (radius_erosion, radius_erosion))\n",
    "    kernel_dilation = cv2.getStructuringElement(cv2.MORPH_ELLIPSE, (radius_dilation, radius_dilation))\n",
    "\n",
    "    if morph_op == \"opening\":\n",
    "        temp = cv2.erode(mask, kernel_erosion, iterations=iter_erosion)\n",
    "        output = cv2.dilate(temp, kernel_dilation, iterations=iter_dilation)\n",
    "    elif morph_op == \"closing\":\n",
    "        temp = cv2.dilate(mask, kernel_dilation, iterations=iter_dilation)\n",
    "        output = cv2.erode(temp, kernel_erosion, iterations=iter_erosion)\n",
    "    else:\n",
    "        raise ValueError(\"Invalid operation. Choose 'opening' or 'closing'.\")\n",
    "    return output\n",
    "\n",
    "def get_bounding_box(mask):\n",
    "    \"\"\"Extracts bounding box from a mask.\"\"\"\n",
    "    y_indices, x_indices = np.where(mask > 0)\n",
    "\n",
    "    x_min, x_max = np.min(x_indices), np.max(x_indices)\n",
    "    y_min, y_max = np.min(y_indices), np.max(y_indices)\n",
    "\n",
    "    # add perturbation to box coordinates\n",
    "    H, W = mask.shape\n",
    "    x_min = max(0, x_min - np.random.randint(0, 20))\n",
    "    x_max = min(W, x_max + np.random.randint(0, 20))\n",
    "    y_min = max(0, y_min - np.random.randint(0, 20))\n",
    "    y_max = min(H, y_max + np.random.randint(0, 20))\n",
    "\n",
    "    return np.array([x_min, y_min, x_max, y_max])"
   ]
  },
  {
   "cell_type": "markdown",
   "metadata": {},
   "source": [
    "## Variables"
   ]
  },
  {
   "cell_type": "code",
   "execution_count": 22,
   "metadata": {},
   "outputs": [],
   "source": [
    "# Data directories\n",
    "DATA_ROOT = \"captures\"\n",
    "IMAGE_SUBDIR = \"raw\"\n",
    "MASK_SUBDIR = \"masked\"\n",
    "\n",
    "SAVE_ROOT = \"processed_data\"\n",
    "IMAGE_SAVE_SUBDIR = \"images\"\n",
    "MASK_SAVE_SUBDIR = \"masks\"\n",
    "BOX_SAVE_SUBDIR = \"boxes\"\n",
    "\n",
    "# Preprocessing parameters\n",
    "# TODO: Add\n",
    "PATCH_SIZE = 256\n",
    "PATCH_STEP = 256\n",
    "radius_erosion = 1\n",
    "iter_erosion = 1\n",
    "radius_dilation = 3\n",
    "iter_dilation = 2\n",
    "\n"
   ]
  },
  {
   "cell_type": "markdown",
   "metadata": {},
   "source": [
    "## Preprocess Data\n",
    "\n",
    "The following cell iterates through DATA_ROOT/ and preprocess the according image-mask pairs. Then it saves the processed data under SAVE_ROOT/ .\n",
    "For further implementational convinience, a few notations were changed and file naming has changed to `{id}_p{patch_id}.png`"
   ]
  },
  {
   "cell_type": "code",
   "execution_count": null,
   "metadata": {},
   "outputs": [],
   "source": [
    "image_paths = glob.glob(osp.join(DATA_ROOT, IMAGE_SUBDIR, \"*.png\"))\n",
    "for image_path in image_paths:\n",
    "    mask_path = image_path.replace(IMAGE_SUBDIR, MASK_SUBDIR)\n",
    "    if not osp.exists(mask_path):\n",
    "        print(f\"Mask not found for {image_path}\")\n",
    "        continue\n",
    "    image = cv2.imread(image_path)[:, :, :3]  # Ensure RGB\n",
    "    mask = cv2.imread(mask_path, cv2.IMREAD_GRAYSCALE)\n",
    "\n",
    "    # Apply erosion/dilation to the mask\n",
    "    mask = apply_morphology(mask)\n",
    "\n",
    "    # Patchify\n",
    "    img_patches = patchify(image, (PATCH_SIZE, PATCH_SIZE, 3), step=PATCH_STEP) #(numH, numW, 1, patchH, patchW, C)\n",
    "    mask_patches = patchify(mask, (PATCH_SIZE, PATCH_SIZE), step=PATCH_STEP) #(numH, numW, patchH, patchW)\n",
    "\n",
    "    patch_cnt = 0\n",
    "    for i in range(img_patches.shape[0]):\n",
    "        for j in range(img_patches.shape[1]):\n",
    "            patch_img = img_patches[i, j, 0, :, :, :]\n",
    "            patch_mask = mask_patches[i, j, :, :]\n",
    "\n",
    "            # Skip empty patches\n",
    "            if np.max(patch_mask) == 0:\n",
    "                continue\n",
    "\n",
    "            # Get bounding Box\n",
    "            box = get_bounding_box(patch_mask)\n",
    "\n",
    "            # Save patch images and masks in 'process_data' as 00001_p01.png (1st image, 1st patch )\n",
    "            img_basename = int(osp.basename(image_path).replace(\".png\", \"\").replace(\"raw_\", \"\"))\n",
    "            patch_img_save_path = osp.join(SAVE_ROOT, IMAGE_SAVE_SUBDIR, f\"{img_basename:05d}_p{patch_cnt:01d}.png\")\n",
    "            patch_mask_save_path = osp.join(SAVE_ROOT, MASK_SAVE_SUBDIR, f\"{img_basename:05d}_p{patch_cnt:01d}.png\")\n",
    "            patch_box_save_key  = osp.join(SAVE_ROOT, BOX_SAVE_SUBDIR, f\"{img_basename:05d}_p{patch_cnt:01d}.npy\")\n",
    "\n",
    "            # Ensure directories exist\n",
    "            os.makedirs(osp.dirname(patch_img_save_path), exist_ok=True)\n",
    "            os.makedirs(osp.dirname(patch_mask_save_path), exist_ok=True)\n",
    "            os.makedirs(osp.dirname(patch_box_save_path), exist_ok=True)\n",
    "\n",
    "            # Save the patches/boxes\n",
    "            cv2.imwrite(patch_img_save_path, patch_img)\n",
    "            cv2.imwrite(patch_mask_save_path, patch_mask)\n",
    "            np.save(patch_box_save_path, box)\n",
    "      \n",
    "            patch_cnt += 1\n",
    "    np.savez(path)"
   ]
  },
  {
   "cell_type": "code",
   "execution_count": 40,
   "metadata": {},
   "outputs": [
    {
     "ename": "AttributeError",
     "evalue": "'NpzFile' object has no attribute 'file'",
     "output_type": "error",
     "traceback": [
      "\u001b[1;31m---------------------------------------------------------------------------\u001b[0m",
      "\u001b[1;31mAttributeError\u001b[0m                            Traceback (most recent call last)",
      "Cell \u001b[1;32mIn[40], line 1\u001b[0m\n\u001b[1;32m----> 1\u001b[0m \u001b[38;5;28mprint\u001b[39m(\u001b[43mnp\u001b[49m\u001b[38;5;241;43m.\u001b[39;49m\u001b[43mload\u001b[49m\u001b[43m(\u001b[49m\u001b[38;5;124;43m\"\u001b[39;49m\u001b[38;5;124;43mprocessed_data/boxes/00002_p0.npz\u001b[39;49m\u001b[38;5;124;43m\"\u001b[39;49m\u001b[43m)\u001b[49m\u001b[38;5;241;43m.\u001b[39;49m\u001b[43mfile\u001b[49m)\n",
      "\u001b[1;31mAttributeError\u001b[0m: 'NpzFile' object has no attribute 'file'"
     ]
    }
   ],
   "source": [
    "print(np.load(\"processed_data/boxes/00002_p0.npz\").file)"
   ]
  }
 ],
 "metadata": {
  "kernelspec": {
   "display_name": "Python 3",
   "language": "python",
   "name": "python3"
  },
  "language_info": {
   "codemirror_mode": {
    "name": "ipython",
    "version": 3
   },
   "file_extension": ".py",
   "mimetype": "text/x-python",
   "name": "python",
   "nbconvert_exporter": "python",
   "pygments_lexer": "ipython3",
   "version": "3.11.6"
  }
 },
 "nbformat": 4,
 "nbformat_minor": 2
}
