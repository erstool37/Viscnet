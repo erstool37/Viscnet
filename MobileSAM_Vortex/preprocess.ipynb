{
 "cells": [
  {
   "cell_type": "code",
   "execution_count": 3,
   "metadata": {},
   "outputs": [
    {
     "name": "stderr",
     "output_type": "stream",
     "text": [
      "c:\\Users\\user\\AppData\\Local\\Programs\\Python\\Python311\\Lib\\site-packages\\tqdm\\auto.py:21: TqdmWarning: IProgress not found. Please update jupyter and ipywidgets. See https://ipywidgets.readthedocs.io/en/stable/user_install.html\n",
      "  from .autonotebook import tqdm as notebook_tqdm\n",
      "c:\\Users\\user\\AppData\\Local\\Programs\\Python\\Python311\\Lib\\site-packages\\timm\\models\\layers\\__init__.py:48: FutureWarning: Importing from timm.models.layers is deprecated, please import via timm.layers\n",
      "  warnings.warn(f\"Importing from {__name__} is deprecated, please import via timm.layers\", FutureWarning)\n",
      "c:\\Users\\user\\AppData\\Local\\Programs\\Python\\Python311\\Lib\\site-packages\\timm\\models\\registry.py:4: FutureWarning: Importing from timm.models.registry is deprecated, please import via timm.models\n",
      "  warnings.warn(f\"Importing from {__name__} is deprecated, please import via timm.models\", FutureWarning)\n",
      "c:\\Users\\user\\Documents\\slurry_viscnet\\MobileSAM_Vortex\\mobile_sam\\modeling\\tiny_vit_sam.py:656: UserWarning: Overwriting tiny_vit_5m_224 in registry with mobile_sam.modeling.tiny_vit_sam.tiny_vit_5m_224. This is because the name being registered conflicts with an existing name. Please check if this is not expected.\n",
      "  return register_model(fn_wrapper)\n",
      "c:\\Users\\user\\Documents\\slurry_viscnet\\MobileSAM_Vortex\\mobile_sam\\modeling\\tiny_vit_sam.py:656: UserWarning: Overwriting tiny_vit_11m_224 in registry with mobile_sam.modeling.tiny_vit_sam.tiny_vit_11m_224. This is because the name being registered conflicts with an existing name. Please check if this is not expected.\n",
      "  return register_model(fn_wrapper)\n",
      "c:\\Users\\user\\Documents\\slurry_viscnet\\MobileSAM_Vortex\\mobile_sam\\modeling\\tiny_vit_sam.py:656: UserWarning: Overwriting tiny_vit_21m_224 in registry with mobile_sam.modeling.tiny_vit_sam.tiny_vit_21m_224. This is because the name being registered conflicts with an existing name. Please check if this is not expected.\n",
      "  return register_model(fn_wrapper)\n",
      "c:\\Users\\user\\Documents\\slurry_viscnet\\MobileSAM_Vortex\\mobile_sam\\modeling\\tiny_vit_sam.py:656: UserWarning: Overwriting tiny_vit_21m_384 in registry with mobile_sam.modeling.tiny_vit_sam.tiny_vit_21m_384. This is because the name being registered conflicts with an existing name. Please check if this is not expected.\n",
      "  return register_model(fn_wrapper)\n",
      "c:\\Users\\user\\Documents\\slurry_viscnet\\MobileSAM_Vortex\\mobile_sam\\modeling\\tiny_vit_sam.py:656: UserWarning: Overwriting tiny_vit_21m_512 in registry with mobile_sam.modeling.tiny_vit_sam.tiny_vit_21m_512. This is because the name being registered conflicts with an existing name. Please check if this is not expected.\n",
      "  return register_model(fn_wrapper)\n"
     ]
    }
   ],
   "source": [
    "import os\n",
    "import os.path as osp\n",
    "import glob\n",
    "\n",
    "import numpy as np\n",
    "import cv2\n",
    "from patchify import patchify\n",
    "from mobile_sam.utils import transforms"
   ]
  },
  {
   "cell_type": "markdown",
   "metadata": {},
   "source": [
    "## Define Preprocessing Functions"
   ]
  },
  {
   "cell_type": "code",
   "execution_count": 4,
   "metadata": {},
   "outputs": [],
   "source": [
    "def apply_morphology(mask, radius_erosion=1, iter_erosion=1, radius_dilation=3, iter_dilation=2, morph_op=\"opening\"):\n",
    "    \"\"\"Applies erosion and dilation to the mask.\"\"\"\n",
    "    kernel_erosion = cv2.getStructuringElement(cv2.MORPH_ELLIPSE, (radius_erosion, radius_erosion))\n",
    "    kernel_dilation = cv2.getStructuringElement(cv2.MORPH_ELLIPSE, (radius_dilation, radius_dilation))\n",
    "\n",
    "    if morph_op == \"opening\":\n",
    "        temp = cv2.erode(mask, kernel_erosion, iterations=iter_erosion)\n",
    "        output = cv2.dilate(temp, kernel_dilation, iterations=iter_dilation)\n",
    "    elif morph_op == \"closing\":\n",
    "        temp = cv2.dilate(mask, kernel_dilation, iterations=iter_dilation)\n",
    "        output = cv2.erode(temp, kernel_erosion, iterations=iter_erosion)\n",
    "    else:\n",
    "        raise ValueError(\"Invalid operation. Choose 'opening' or 'closing'.\")\n",
    "    return output\n",
    "\n",
    "def get_bounding_box(mask):\n",
    "    \"\"\"Extracts bounding box from a mask.\"\"\"\n",
    "    y_indices, x_indices = np.where(mask > 0)\n",
    "\n",
    "    x_min, x_max = np.min(x_indices), np.max(x_indices)\n",
    "    y_min, y_max = np.min(y_indices), np.max(y_indices)\n",
    "\n",
    "    # add perturbation to box coordinates\n",
    "    H, W = mask.shape\n",
    "    x_min = max(0, x_min - np.random.randint(0, 20))\n",
    "    x_max = min(W, x_max + np.random.randint(0, 20))\n",
    "    y_min = max(0, y_min - np.random.randint(0, 20))\n",
    "    y_max = min(H, y_max + np.random.randint(0, 20))\n",
    "\n",
    "    return np.array([x_min, y_min, x_max, y_max])"
   ]
  },
  {
   "cell_type": "markdown",
   "metadata": {},
   "source": [
    "## Variables"
   ]
  },
  {
   "cell_type": "code",
   "execution_count": 5,
   "metadata": {},
   "outputs": [],
   "source": [
    "# Data directories\n",
    "DATA_ROOT = \"captures\"\n",
    "IMAGE_SUBDIR = \"raw\"\n",
    "MASK_SUBDIR = \"masked\"\n",
    "\n",
    "SAVE_ROOT = \"processed_data\"\n",
    "IMAGE_SAVE_SUBDIR = \"images\"\n",
    "MASK_SAVE_SUBDIR = \"masks\"\n",
    "BOX_SAVE_SUBDIR = \"boxes\"\n",
    "\n",
    "# Preprocessing parameters\n",
    "PATCH_SIZE = 256\n",
    "PATCH_STEP = 256\n",
    "radius_erosion = 1\n",
    "iter_erosion = 1\n",
    "radius_dilation = 3\n",
    "iter_dilation = 2\n",
    "original_image_size = (256, 256)\n",
    "image_encoder_size = 1024"
   ]
  },
  {
   "cell_type": "markdown",
   "metadata": {},
   "source": [
    "## Preprocess Data"
   ]
  },
  {
   "cell_type": "code",
   "execution_count": null,
   "metadata": {},
   "outputs": [
    {
     "name": "stdout",
     "output_type": "stream",
     "text": [
      "No ZIP file found: C:\\Users\\user/Downloads\\captures.zip\n"
     ]
    },
    {
     "ename": "FileNotFoundError",
     "evalue": "[Errno 2] No such file or directory: 'C:\\\\Users\\\\user/Downloads\\\\captures.zip'",
     "output_type": "error",
     "traceback": [
      "\u001b[1;31m---------------------------------------------------------------------------\u001b[0m",
      "\u001b[1;31mFileNotFoundError\u001b[0m                         Traceback (most recent call last)",
      "File \u001b[1;32mc:\\Users\\user\\AppData\\Local\\Programs\\Python\\Python311\\Lib\\shutil.py:825\u001b[0m, in \u001b[0;36mmove\u001b[1;34m(src, dst, copy_function)\u001b[0m\n\u001b[0;32m    824\u001b[0m \u001b[38;5;28;01mtry\u001b[39;00m:\n\u001b[1;32m--> 825\u001b[0m     \u001b[43mos\u001b[49m\u001b[38;5;241;43m.\u001b[39;49m\u001b[43mrename\u001b[49m\u001b[43m(\u001b[49m\u001b[43msrc\u001b[49m\u001b[43m,\u001b[49m\u001b[43m \u001b[49m\u001b[43mreal_dst\u001b[49m\u001b[43m)\u001b[49m\n\u001b[0;32m    826\u001b[0m \u001b[38;5;28;01mexcept\u001b[39;00m \u001b[38;5;167;01mOSError\u001b[39;00m:\n",
      "\u001b[1;31mFileNotFoundError\u001b[0m: [WinError 2] 지정된 파일을 찾을 수 없습니다: 'C:\\\\Users\\\\user/Downloads\\\\captures.zip' -> 'C:\\\\Users\\\\user\\\\Documents\\\\slurry_viscnet\\\\MobileSAM_Vortex\\\\captures.zip'",
      "\nDuring handling of the above exception, another exception occurred:\n",
      "\u001b[1;31mFileNotFoundError\u001b[0m                         Traceback (most recent call last)",
      "Cell \u001b[1;32mIn[4], line 23\u001b[0m\n\u001b[0;32m     20\u001b[0m     exit()\n\u001b[0;32m     22\u001b[0m \u001b[38;5;66;03m# Move ZIP file to the script's directory\u001b[39;00m\n\u001b[1;32m---> 23\u001b[0m \u001b[43mshutil\u001b[49m\u001b[38;5;241;43m.\u001b[39;49m\u001b[43mmove\u001b[49m\u001b[43m(\u001b[49m\u001b[43mdownloads_zip\u001b[49m\u001b[43m,\u001b[49m\u001b[43m \u001b[49m\u001b[43mcurrent_path\u001b[49m\u001b[43m)\u001b[49m\n\u001b[0;32m     24\u001b[0m \u001b[38;5;28mprint\u001b[39m(\u001b[38;5;124mf\u001b[39m\u001b[38;5;124m\"\u001b[39m\u001b[38;5;124mMoved \u001b[39m\u001b[38;5;132;01m{\u001b[39;00mzip_file_name\u001b[38;5;132;01m}\u001b[39;00m\u001b[38;5;124m to \u001b[39m\u001b[38;5;132;01m{\u001b[39;00mcurrent_path\u001b[38;5;132;01m}\u001b[39;00m\u001b[38;5;124m\"\u001b[39m)\n\u001b[0;32m     26\u001b[0m \u001b[38;5;66;03m# Delete existing\"captures folder if it exists\u001b[39;00m\n",
      "File \u001b[1;32mc:\\Users\\user\\AppData\\Local\\Programs\\Python\\Python311\\Lib\\shutil.py:845\u001b[0m, in \u001b[0;36mmove\u001b[1;34m(src, dst, copy_function)\u001b[0m\n\u001b[0;32m    843\u001b[0m         rmtree(src)\n\u001b[0;32m    844\u001b[0m     \u001b[38;5;28;01melse\u001b[39;00m:\n\u001b[1;32m--> 845\u001b[0m         \u001b[43mcopy_function\u001b[49m\u001b[43m(\u001b[49m\u001b[43msrc\u001b[49m\u001b[43m,\u001b[49m\u001b[43m \u001b[49m\u001b[43mreal_dst\u001b[49m\u001b[43m)\u001b[49m\n\u001b[0;32m    846\u001b[0m         os\u001b[38;5;241m.\u001b[39munlink(src)\n\u001b[0;32m    847\u001b[0m \u001b[38;5;28;01mreturn\u001b[39;00m real_dst\n",
      "File \u001b[1;32mc:\\Users\\user\\AppData\\Local\\Programs\\Python\\Python311\\Lib\\shutil.py:436\u001b[0m, in \u001b[0;36mcopy2\u001b[1;34m(src, dst, follow_symlinks)\u001b[0m\n\u001b[0;32m    434\u001b[0m \u001b[38;5;28;01mif\u001b[39;00m os\u001b[38;5;241m.\u001b[39mpath\u001b[38;5;241m.\u001b[39misdir(dst):\n\u001b[0;32m    435\u001b[0m     dst \u001b[38;5;241m=\u001b[39m os\u001b[38;5;241m.\u001b[39mpath\u001b[38;5;241m.\u001b[39mjoin(dst, os\u001b[38;5;241m.\u001b[39mpath\u001b[38;5;241m.\u001b[39mbasename(src))\n\u001b[1;32m--> 436\u001b[0m \u001b[43mcopyfile\u001b[49m\u001b[43m(\u001b[49m\u001b[43msrc\u001b[49m\u001b[43m,\u001b[49m\u001b[43m \u001b[49m\u001b[43mdst\u001b[49m\u001b[43m,\u001b[49m\u001b[43m \u001b[49m\u001b[43mfollow_symlinks\u001b[49m\u001b[38;5;241;43m=\u001b[39;49m\u001b[43mfollow_symlinks\u001b[49m\u001b[43m)\u001b[49m\n\u001b[0;32m    437\u001b[0m copystat(src, dst, follow_symlinks\u001b[38;5;241m=\u001b[39mfollow_symlinks)\n\u001b[0;32m    438\u001b[0m \u001b[38;5;28;01mreturn\u001b[39;00m dst\n",
      "File \u001b[1;32mc:\\Users\\user\\AppData\\Local\\Programs\\Python\\Python311\\Lib\\shutil.py:256\u001b[0m, in \u001b[0;36mcopyfile\u001b[1;34m(src, dst, follow_symlinks)\u001b[0m\n\u001b[0;32m    254\u001b[0m     os\u001b[38;5;241m.\u001b[39msymlink(os\u001b[38;5;241m.\u001b[39mreadlink(src), dst)\n\u001b[0;32m    255\u001b[0m \u001b[38;5;28;01melse\u001b[39;00m:\n\u001b[1;32m--> 256\u001b[0m     \u001b[38;5;28;01mwith\u001b[39;00m \u001b[38;5;28;43mopen\u001b[39;49m\u001b[43m(\u001b[49m\u001b[43msrc\u001b[49m\u001b[43m,\u001b[49m\u001b[43m \u001b[49m\u001b[38;5;124;43m'\u001b[39;49m\u001b[38;5;124;43mrb\u001b[39;49m\u001b[38;5;124;43m'\u001b[39;49m\u001b[43m)\u001b[49m \u001b[38;5;28;01mas\u001b[39;00m fsrc:\n\u001b[0;32m    257\u001b[0m         \u001b[38;5;28;01mtry\u001b[39;00m:\n\u001b[0;32m    258\u001b[0m             \u001b[38;5;28;01mwith\u001b[39;00m \u001b[38;5;28mopen\u001b[39m(dst, \u001b[38;5;124m'\u001b[39m\u001b[38;5;124mwb\u001b[39m\u001b[38;5;124m'\u001b[39m) \u001b[38;5;28;01mas\u001b[39;00m fdst:\n\u001b[0;32m    259\u001b[0m                 \u001b[38;5;66;03m# macOS\u001b[39;00m\n",
      "\u001b[1;31mFileNotFoundError\u001b[0m: [Errno 2] No such file or directory: 'C:\\\\Users\\\\user/Downloads\\\\captures.zip'"
     ]
    },
    {
     "ename": "",
     "evalue": "",
     "output_type": "error",
     "traceback": [
      "\u001b[1;31m현재 셀 또는 이전 셀에서 코드를 실행하는 동안 Kernel이 충돌했습니다. \n",
      "\u001b[1;31m셀의 코드를 검토하여 가능한 오류 원인을 식별하세요. \n",
      "\u001b[1;31m자세한 내용을 보려면 <a href='https://aka.ms/vscodeJupyterKernelCrash'>여기</a>를 클릭하세요. \n",
      "\u001b[1;31m자세한 내용은 Jupyter <a href='command:jupyter.viewOutput'>로그</a>를 참조하세요."
     ]
    }
   ],
   "source": [
    "import os\n",
    "import shutil\n",
    "import zipfile\n",
    "import stat\n",
    "from pathlib import Path\n",
    "\n",
    "# File Retrieving Automation\n",
    "\n",
    "FILE_PATH = \"captures\"\n",
    "downloads = os.path.expanduser(\"~/Downloads\")  # downloaded through stirsimul\n",
    "zip_file_name = FILE_PATH + \".zip\"\n",
    "downloads_zip = os.path.join(downloads, zip_file_name)\n",
    "current_path = Path(os.getcwd()).resolve() # current directory  # Full path to the original ZIP file\n",
    "destination_zip_path = os.path.join(current_path, zip_file_name)  # ZIP file directory after moving\n",
    "extract_to = os.path.join(current_path, FILE_PATH)  # Target folder directory\n",
    "\n",
    "# Check if ZIP file exists in Downloads\n",
    "if not os.path.exists(downloads_zip):\n",
    "    print(f\"No ZIP file found: {downloads_zip}\")\n",
    "    exit()\n",
    "\n",
    "# Move ZIP file to the script's directory\n",
    "shutil.move(downloads_zip, current_path)\n",
    "print(f\"Moved {zip_file_name} to {current_path}\")\n",
    "\n",
    "# Delete existing\"captures folder if it exists\n",
    "if os.path.exists(extract_to):\n",
    "    counter = 1\n",
    "    new_name = extract_to.replace(FILE_PATH, f\"{FILE_PATH}_{250218}_{counter:02d}\")\n",
    "    while os.path.exists(new_name):\n",
    "        counter += 1\n",
    "        new_name = extract_to.replace(FILE_PATH, f\"{FILE_PATH}_{250218}_{counter:02d}\")\n",
    "    os.rename(extract_to, new_name)\n",
    "    print(f\"Modified existing captures folder name: {new_name}\")\n",
    "\n",
    "# Extract the ZIP file\n",
    "shutil.unpack_archive(destination_zip_path, extract_to)\n",
    "\n",
    "print(f\"Extracted {zip_file_name} to {extract_to}\")\n",
    "\n",
    "# Delete the ZIP file after extraction\n",
    "os.remove(destination_zip_path)\n",
    "print(f\"Deleted original ZIP file: {destination_zip_path}\")"
   ]
  },
  {
   "cell_type": "code",
   "execution_count": 6,
   "metadata": {},
   "outputs": [],
   "source": [
    "image_paths = glob.glob(osp.join(DATA_ROOT, IMAGE_SUBDIR, \"*.png\"))\n",
    "resizer = transforms.ResizeLongestSide(image_encoder_size)\n",
    "\n",
    "for image_path in image_paths:\n",
    "    mask_path = image_path.replace(IMAGE_SUBDIR, MASK_SUBDIR)\n",
    "    if not osp.exists(mask_path):\n",
    "        print(f\"Mask not found for {image_path}\")\n",
    "        continue\n",
    "    image = cv2.imread(image_path)[:, :, :3]  # Ensure RGB\n",
    "    mask = cv2.imread(mask_path, cv2.IMREAD_GRAYSCALE)\n",
    "\n",
    "    # Apply erosion/dilation to the mask\n",
    "    mask = apply_morphology(mask)\n",
    "\n",
    "    # Patchify\n",
    "    img_patches = patchify(image, (PATCH_SIZE, PATCH_SIZE, 3), step=PATCH_STEP) #(numH, numW, 1, patchH, patchW, C)\n",
    "    mask_patches = patchify(mask, (PATCH_SIZE, PATCH_SIZE), step=PATCH_STEP) #(numH, numW, patchH, patchW)\n",
    "\n",
    "    patch_cnt = 0\n",
    "    for i in range(img_patches.shape[0]):\n",
    "        for j in range(img_patches.shape[1]):\n",
    "            patch_img = resizer.apply_image(img_patches[i, j, 0, :, :, :])\n",
    "            patch_mask = mask_patches[i, j, :, :]\n",
    "\n",
    "            # Skip empty patches\n",
    "            if np.max(patch_mask) == 0:\n",
    "                continue\n",
    "\n",
    "            # Get bounding Box\n",
    "            box = resizer.apply_boxes(get_bounding_box(patch_mask), original_image_size)\n",
    "\n",
    "            # Save patch images and masks in 'process_data' as 00001_p01.png (1st image, 1st patch )\n",
    "            img_basename = int(osp.basename(image_path).replace(\".png\", \"\").replace(\"raw_\", \"\"))\n",
    "            patch_img_save_path = osp.join(SAVE_ROOT, IMAGE_SAVE_SUBDIR, f\"{img_basename:05d}_p{patch_cnt:01d}.png\")\n",
    "            patch_mask_save_path = osp.join(SAVE_ROOT, MASK_SAVE_SUBDIR, f\"{img_basename:05d}_p{patch_cnt:01d}.png\")\n",
    "            patch_box_save_path  = osp.join(SAVE_ROOT, BOX_SAVE_SUBDIR, f\"{img_basename:05d}_p{patch_cnt:01d}.npy\")\n",
    "\n",
    "            # Ensure directories exist\n",
    "            os.makedirs(osp.dirname(patch_img_save_path), exist_ok=True)\n",
    "            os.makedirs(osp.dirname(patch_mask_save_path), exist_ok=True)\n",
    "            os.makedirs(osp.dirname(patch_box_save_path), exist_ok=True)\n",
    "\n",
    "            # Save the patches/boxes\n",
    "            cv2.imwrite(patch_img_save_path, patch_img)\n",
    "            cv2.imwrite(patch_mask_save_path, patch_mask)\n",
    "            np.save(patch_box_save_path, box)\n",
    "      \n",
    "            patch_cnt += 1"
   ]
  },
  {
   "cell_type": "code",
   "execution_count": 7,
   "metadata": {},
   "outputs": [
    {
     "name": "stdout",
     "output_type": "stream",
     "text": [
      "processed image size:(1024, 1024, 3)\n",
      "processed box location:[[ 852.  920. 1024. 1024.]]\n"
     ]
    }
   ],
   "source": [
    "import cv2\n",
    "\n",
    "img_example = cv2.imread('processed_data/images/00010_p0.png')\n",
    "box_example = np.load('processed_data/boxes/00010_p0.npy')\n",
    "\n",
    "print(f'processed image size:{img_example.shape}')\n",
    "print(f'processed box location:{box_example}')"
   ]
  }
 ],
 "metadata": {
  "kernelspec": {
   "display_name": "Python 3",
   "language": "python",
   "name": "python3"
  },
  "language_info": {
   "codemirror_mode": {
    "name": "ipython",
    "version": 3
   },
   "file_extension": ".py",
   "mimetype": "text/x-python",
   "name": "python",
   "nbconvert_exporter": "python",
   "pygments_lexer": "ipython3",
   "version": "3.11.6"
  }
 },
 "nbformat": 4,
 "nbformat_minor": 2
}
